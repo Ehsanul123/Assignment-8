{
 "cells": [
  {
   "cell_type": "code",
   "execution_count": null,
   "id": "74800296",
   "metadata": {},
   "outputs": [],
   "source": [
    "#1:\n",
    "PyInputPlus is not a part of the Python Standard Library, we must install.\n",
    "!pip install pyinputplus"
   ]
  },
  {
   "cell_type": "code",
   "execution_count": null,
   "id": "ffc29991",
   "metadata": {},
   "outputs": [],
   "source": [
    "#2:\n",
    "You can import the module with import pyinputplus as pyip so that you can enter a shorter name\n",
    "when calling the module's functions. PyInputPlus has functions for entering a variety of input, \n",
    "including strings, numbers, dates, yes/no, True/False, emails, and files    "
   ]
  },
  {
   "cell_type": "code",
   "execution_count": null,
   "id": "3dcfbcf0",
   "metadata": {},
   "outputs": [],
   "source": [
    "#3:\n",
    "inputInt() : Accepts an integer value. Returns an int.\n",
    "inputFloat() : Accepts a floating-point numeric value"
   ]
  },
  {
   "cell_type": "code",
   "execution_count": 27,
   "id": "38876b9b",
   "metadata": {},
   "outputs": [
    {
     "name": "stdout",
     "output_type": "stream",
     "text": [
      "5\n"
     ]
    },
    {
     "data": {
      "text/plain": [
       "5"
      ]
     },
     "execution_count": 27,
     "metadata": {},
     "output_type": "execute_result"
    }
   ],
   "source": [
    "#4:\n",
    "import pyinputplus as pyip\n",
    "pyip.inputInt(min = 0, max =99)"
   ]
  },
  {
   "cell_type": "code",
   "execution_count": 28,
   "id": "a8bdf5f1",
   "metadata": {},
   "outputs": [
    {
     "name": "stdout",
     "output_type": "stream",
     "text": [
      "i\n",
      "'i' is not a number.\n",
      "9\n",
      "9\n"
     ]
    }
   ],
   "source": [
    "#5:\n",
    "response = pyip.inputNum(allowRegexes=[r'(I|V|X|L|C|D|M)+', r'zero']) # it allowes roman letters as numbers too\n",
    "response = pyip.inputNum(blockRegexes=[r'[02468]$'])# blocks the even numbers"
   ]
  },
  {
   "cell_type": "code",
   "execution_count": null,
   "id": "80ffe7aa",
   "metadata": {},
   "outputs": [],
   "source": [
    "#6:\n",
    "It will throw RetryLimitException exception."
   ]
  },
  {
   "cell_type": "code",
   "execution_count": 30,
   "id": "51929ce9",
   "metadata": {},
   "outputs": [
    {
     "name": "stdout",
     "output_type": "stream",
     "text": [
      "\n",
      "Blank values are not allowed.\n",
      "\n",
      "Blank values are not allowed.\n",
      "\n",
      "Blank values are not allowed.\n"
     ]
    },
    {
     "data": {
      "text/plain": [
       "'hello'"
      ]
     },
     "execution_count": 30,
     "metadata": {},
     "output_type": "execute_result"
    }
   ],
   "source": [
    "#7:\n",
    "response = pyip.inputStr(limit=3,default='hello')\n",
    "response"
   ]
  },
  {
   "cell_type": "code",
   "execution_count": null,
   "id": "817e9baf",
   "metadata": {},
   "outputs": [],
   "source": []
  }
 ],
 "metadata": {
  "kernelspec": {
   "display_name": "Python 3 (ipykernel)",
   "language": "python",
   "name": "python3"
  },
  "language_info": {
   "codemirror_mode": {
    "name": "ipython",
    "version": 3
   },
   "file_extension": ".py",
   "mimetype": "text/x-python",
   "name": "python",
   "nbconvert_exporter": "python",
   "pygments_lexer": "ipython3",
   "version": "3.9.7"
  }
 },
 "nbformat": 4,
 "nbformat_minor": 5
}
